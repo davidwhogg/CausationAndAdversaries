{
  "nbformat": 4,
  "nbformat_minor": 0,
  "metadata": {
    "colab": {
      "name": "generative_vs_discriminative.ipynb",
      "provenance": [],
      "collapsed_sections": [],
      "machine_shape": "hm"
    },
    "kernelspec": {
      "name": "python3",
      "display_name": "Python 3"
    }
  },
  "cells": [
    {
      "cell_type": "code",
      "metadata": {
        "id": "TZLXl4Vx8WYo",
        "colab_type": "code",
        "colab": {}
      },
      "source": [
        "import numpy as np\n",
        "import pylab as plt\n",
        "#matplotlib inline\n",
        "np.random.seed(17)"
      ],
      "execution_count": 0,
      "outputs": []
    },
    {
      "cell_type": "code",
      "metadata": {
        "id": "r1KTAQ0V8b2g",
        "colab_type": "code",
        "colab": {}
      },
      "source": [
        "# set the integers\n",
        "N = 2 ** 15\n",
        "D = 2 ** 10\n",
        "K = 2 ** 1"
      ],
      "execution_count": 0,
      "outputs": []
    },
    {
      "cell_type": "code",
      "metadata": {
        "id": "oYQYdl_g8t-R",
        "colab_type": "code",
        "colab": {}
      },
      "source": [
        "# make the fake data\n",
        "ys = np.random.normal(size=(N, K))\n",
        "trueA = np.vstack((np.ones(D), np.arange(-D/2 + 0.5, D/2, 1.)[None,:] / (D / 2.))).T\n",
        "trueA_pseudo_inverse = np.linalg.solve(np.dot(trueA.T, trueA), trueA.T)\n",
        "xs = np.dot(trueA, ys.T).T\n",
        "xs += 2. ** -2 * np.random.normal(size=(N, D))"
      ],
      "execution_count": 0,
      "outputs": []
    },
    {
      "cell_type": "code",
      "metadata": {
        "id": "SGrRc7kO8-8N",
        "colab_type": "code",
        "colab": {}
      },
      "source": [
        "for n in [17, 42, 4097, 17001]:\n",
        "  plt.plot(xs[n])\n",
        "  plt.text(D, xs[n, -1], \"({:0.2f}, {:0.2f})\".format(ys[n, 0], ys[n, 1]))"
      ],
      "execution_count": 0,
      "outputs": []
    },
    {
      "cell_type": "code",
      "metadata": {
        "id": "RNRnh5MW-BiH",
        "colab_type": "code",
        "colab": {}
      },
      "source": [
        "# make a training set\n",
        "N_train = 2 ** 7 + 5\n",
        "assert 2 * N_train < N\n",
        "xs_train = xs[:N_train, :]\n",
        "ys_train = ys[:N_train, :]"
      ],
      "execution_count": 0,
      "outputs": []
    },
    {
      "cell_type": "code",
      "metadata": {
        "id": "fMx1K0maBy6t",
        "colab_type": "code",
        "colab": {}
      },
      "source": [
        "# make test set\n",
        "N_test = 2 ** 8\n",
        "assert N_train + N_test < N\n",
        "xs_test = xs[-N_test:, :]\n",
        "ys_test = ys[-N_test:, :]"
      ],
      "execution_count": 0,
      "outputs": []
    },
    {
      "cell_type": "code",
      "metadata": {
        "id": "O47F4MqN_7Qz",
        "colab_type": "code",
        "colab": {}
      },
      "source": [
        "# train generative model: x = A y + noise\n",
        "A = np.zeros((D, K))\n",
        "for d in range(D):\n",
        "  A[d, :] = np.linalg.solve(np.dot(ys_train.T, ys_train), np.dot(ys_train.T, xs_train[:, d]))\n",
        "A_pseudo_inverse = np.linalg.solve(np.dot(A.T, A), A.T)"
      ],
      "execution_count": 0,
      "outputs": []
    },
    {
      "cell_type": "code",
      "metadata": {
        "id": "hoHMkiH9BTHw",
        "colab_type": "code",
        "colab": {}
      },
      "source": [
        "# train discriminative model: y = B x + noise -- now with L2 regularization!\n",
        "lam = 2 ** -30\n",
        "B = np.zeros((K, D))\n",
        "for k in range(K):\n",
        "  B[k, :] = np.linalg.solve(np.dot(xs_train.T, xs_train) + lam * np.eye(D), np.dot(xs_train.T, ys_train[:, k]))"
      ],
      "execution_count": 0,
      "outputs": []
    },
    {
      "cell_type": "code",
      "metadata": {
        "id": "TNiam-vuF-vv",
        "colab_type": "code",
        "colab": {}
      },
      "source": [
        "# test the models\n",
        "ys_generative_test = np.dot(A_pseudo_inverse, xs_test.T).T\n",
        "ys_discriminative_test = np.dot(B, xs_test.T).T"
      ],
      "execution_count": 0,
      "outputs": []
    },
    {
      "cell_type": "code",
      "metadata": {
        "id": "rVPJwA-8GnNJ",
        "colab_type": "code",
        "colab": {}
      },
      "source": [
        "plt.scatter(ys_test[:, 1], ys_generative_test[:, 1])\n",
        "plt.title(\"test of the generative model\")\n",
        "plt.xlabel(\"true slope\")\n",
        "plt.ylabel(\"inferred slope\")\n",
        "plt.plot([-3, 3], [-3, 3], \"k-\", alpha=0.25)"
      ],
      "execution_count": 0,
      "outputs": []
    },
    {
      "cell_type": "code",
      "metadata": {
        "id": "Y6-YLM-hHGUS",
        "colab_type": "code",
        "colab": {}
      },
      "source": [
        "plt.scatter(ys_test[:, 1], ys_discriminative_test[:, 1])\n",
        "plt.title(\"test of the discriminative model\")\n",
        "plt.xlabel(\"true slope\")\n",
        "plt.ylabel(\"estimated slope\")\n",
        "plt.plot([-3, 3], [-3, 3], \"k-\", alpha=0.25)"
      ],
      "execution_count": 0,
      "outputs": []
    },
    {
      "cell_type": "code",
      "metadata": {
        "id": "QNFff75KBrCs",
        "colab_type": "code",
        "colab": {}
      },
      "source": [
        "for k in range(K):\n",
        "  plt.plot(trueA_pseudo_inverse[k, :])\n",
        "plt.title(\"true (information-theory-optimal) result\")"
      ],
      "execution_count": 0,
      "outputs": []
    },
    {
      "cell_type": "code",
      "metadata": {
        "id": "eYYSHiLBn5h4",
        "colab_type": "code",
        "colab": {}
      },
      "source": [
        "for k in range(K):\n",
        "  plt.plot(A_pseudo_inverse[k, :])\n",
        "plt.title(\"pseudo-inverse of generative-model A\")"
      ],
      "execution_count": 0,
      "outputs": []
    },
    {
      "cell_type": "code",
      "metadata": {
        "id": "L69qMH7sCN60",
        "colab_type": "code",
        "colab": {}
      },
      "source": [
        "for k in range(K):\n",
        "  plt.plot(B[k, :])\n",
        "plt.title(\"discriminative-model B\")"
      ],
      "execution_count": 0,
      "outputs": []
    },
    {
      "cell_type": "code",
      "metadata": {
        "id": "7GpNmMCgCdC_",
        "colab_type": "code",
        "colab": {}
      },
      "source": [
        ""
      ],
      "execution_count": 0,
      "outputs": []
    }
  ]
}